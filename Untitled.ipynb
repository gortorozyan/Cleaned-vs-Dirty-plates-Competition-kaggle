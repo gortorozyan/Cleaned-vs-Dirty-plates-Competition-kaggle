{
 "cells": [
  {
   "cell_type": "code",
   "execution_count": 163,
   "id": "4d542cef-b8cc-4b1f-9d02-415ebc18fb32",
   "metadata": {},
   "outputs": [],
   "source": [
    "import pandas as pd\n",
    "import numpy as np\n",
    "import os\n",
    "import matplotlib.pyplot as plt\n",
    "import cv2\n",
    "import matplotlib.image as mpimg\n",
    "from keras.utils import to_categorical\n",
    "from keras.optimizers import Adam\n",
    "from keras.models import Sequential\n",
    "from keras.layers import Dense, Flatten, MaxPooling2D, Conv2D, BatchNormalization, Dropout"
   ]
  },
  {
   "cell_type": "code",
   "execution_count": 164,
   "id": "75aed1a2-7f42-48f4-9cf6-df820ac9256b",
   "metadata": {},
   "outputs": [],
   "source": [
    "df_test = os.listdir('./plates/test/')"
   ]
  },
  {
   "cell_type": "code",
   "execution_count": 165,
   "id": "0018286d-57ce-4fb5-be30-16d607ea5157",
   "metadata": {},
   "outputs": [],
   "source": [
    "df_train_dirty, df_train_clean = os.listdir('./plates/train/dirty'), os.listdir('./plates/train/cleaned')"
   ]
  },
  {
   "cell_type": "code",
   "execution_count": 166,
   "id": "7c6c5c09-7735-4bf0-9049-c05b1b09aa87",
   "metadata": {},
   "outputs": [],
   "source": [
    "data_train = []\n",
    "data_train_label = [0] * 20 + [1] * 20\n",
    "dirty_path = './plates/train/dirty/'\n",
    "clean_path = './plates/train/cleaned/'\n",
    "for i in range(len(df_train_dirty)):\n",
    "    data_train.append(dirty_path + df_train_dirty[i])\n",
    "for i in range(len(df_train_clean)):\n",
    "    data_train.append(clean_path + df_train_clean[i])"
   ]
  },
  {
   "cell_type": "code",
   "execution_count": 167,
   "id": "36280f60-3e88-466b-ba50-a9d24f8b741e",
   "metadata": {},
   "outputs": [],
   "source": [
    "data_test = []\n",
    "for i in range(len(df_test)):\n",
    "    data_test.append('./plates/test/' + df_test[i])"
   ]
  },
  {
   "cell_type": "code",
   "execution_count": 168,
   "id": "96d4b629-46cd-4add-b916-fe4ea3fd7588",
   "metadata": {},
   "outputs": [],
   "source": [
    "x_shape, y_shape = [],[]"
   ]
  },
  {
   "cell_type": "code",
   "execution_count": 169,
   "id": "feb8c472-4625-48e6-a846-0164d96ae68c",
   "metadata": {},
   "outputs": [],
   "source": [
    "for i in data_train:\n",
    "    x_shape.append(mpimg.imread(i).shape[0])\n",
    "    y_shape.append(mpimg.imread(i).shape[1])\n",
    "for i in data_test:\n",
    "    x_shape.append(mpimg.imread(i).shape[0])\n",
    "    y_shape.append(mpimg.imread(i).shape[1])\n",
    "    "
   ]
  },
  {
   "cell_type": "code",
   "execution_count": 170,
   "id": "f40918b4-c706-4138-a8f7-e598416b1a9b",
   "metadata": {},
   "outputs": [],
   "source": [
    "x_shape, y_shape = sum(x_shape) // len(x_shape), sum(y_shape) // len(y_shape)"
   ]
  },
  {
   "cell_type": "code",
   "execution_count": 171,
   "id": "475d3bfd-8752-44de-89e2-0ece79ea47fc",
   "metadata": {},
   "outputs": [],
   "source": [
    "train_frame = pd.DataFrame({\n",
    "    'Plates_path': data_train,\n",
    "    'Label': data_train_label\n",
    "})\n",
    "test_frame = pd.DataFrame({\n",
    "    'Plates_path':data_test\n",
    "})"
   ]
  },
  {
   "cell_type": "code",
   "execution_count": 172,
   "id": "1e248aeb-353d-4c07-b87e-25496ff41ea1",
   "metadata": {},
   "outputs": [],
   "source": [
    "train_frame = train_frame.sample(frac=1).reset_index(drop=True)"
   ]
  },
  {
   "cell_type": "code",
   "execution_count": 173,
   "id": "4437fa74-72f8-4a9f-9ad0-fb5ae950f72b",
   "metadata": {},
   "outputs": [],
   "source": [
    "pre_image = []\n",
    "for i in train_frame['Plates_path']:\n",
    "    image = cv2.imread(i)\n",
    "    image = cv2.resize(image, (x_shape, y_shape))\n",
    "    image = image / 255.0\n",
    "    img = image.astype(np.float32)\n",
    "    gray_image = cv2.cvtColor(img, cv2.COLOR_BGR2GRAY) \n",
    "    reshaped_array = gray_image.reshape(262, 336, 1)\n",
    "    pre_image.append(reshaped_array)\n",
    "    \n",
    "pre_image_test = []\n",
    "for i in test_frame['Plates_path']:\n",
    "    image = cv2.imread(i)\n",
    "    image = cv2.resize(image, (x_shape, y_shape))\n",
    "    image = image / 255.0\n",
    "    img = image.astype(np.float32)\n",
    "    gray_image = cv2.cvtColor(img, cv2.COLOR_BGR2GRAY) \n",
    "    reshaped_array = gray_image.reshape(262, 336, 1)\n",
    "    pre_image_test.append(reshaped_array)"
   ]
  },
  {
   "cell_type": "code",
   "execution_count": 174,
   "id": "92da76f0-0825-43ef-b065-7f11f72b5e48",
   "metadata": {},
   "outputs": [],
   "source": [
    "train_frame['pre_image'] = pre_image"
   ]
  },
  {
   "cell_type": "code",
   "execution_count": 175,
   "id": "e5982e4e-5604-4110-9c67-7678bf9931ca",
   "metadata": {},
   "outputs": [],
   "source": [
    "test_frame['pre_image'] = pre_image_test"
   ]
  },
  {
   "cell_type": "code",
   "execution_count": 176,
   "id": "44039997-3b11-4284-9fe5-ef43f9ba3be2",
   "metadata": {},
   "outputs": [],
   "source": [
    "test_frame['id'] = [i for i in range (0, 744)]"
   ]
  },
  {
   "cell_type": "code",
   "execution_count": 177,
   "id": "39132735-6812-49f8-b18a-024669f49cf3",
   "metadata": {},
   "outputs": [],
   "source": [
    "X_train, y_train = np.array(train_frame['pre_image'].tolist()), to_categorical(train_frame['Label'])"
   ]
  },
  {
   "cell_type": "code",
   "execution_count": 178,
   "id": "49672ded-14ba-4a25-94ca-f7f25e0c63de",
   "metadata": {},
   "outputs": [],
   "source": [
    "X_test = np.array(test_frame['pre_image'].tolist())"
   ]
  },
  {
   "cell_type": "code",
   "execution_count": 179,
   "id": "2859d7b4-6bc7-48a0-929b-2003a9c9ecd8",
   "metadata": {},
   "outputs": [],
   "source": [
    "model = Sequential()"
   ]
  },
  {
   "cell_type": "code",
   "execution_count": 180,
   "id": "f4f5f61b-38ae-4805-adce-1c12731f0195",
   "metadata": {},
   "outputs": [
    {
     "name": "stderr",
     "output_type": "stream",
     "text": [
      "C:\\Users\\ASUS\\AppData\\Local\\Programs\\Python\\Python312\\Lib\\site-packages\\keras\\src\\layers\\convolutional\\base_conv.py:107: UserWarning: Do not pass an `input_shape`/`input_dim` argument to a layer. When using Sequential models, prefer using an `Input(shape)` object as the first layer in the model instead.\n",
      "  super().__init__(activity_regularizer=activity_regularizer, **kwargs)\n"
     ]
    }
   ],
   "source": [
    "model.add(Conv2D(filters=32, kernel_size=(2, 2), activation='relu',  input_shape=(x_shape, y_shape, 1)))\n",
    "model.add(MaxPooling2D(pool_size=(2, 2)))\n",
    "model.add(Conv2D(filters=12, kernel_size=(2, 2), activation='relu'))\n",
    "model.add(MaxPooling2D(pool_size=(2, 2)))\n",
    "model.add(Flatten())\n",
    "model.add(Dense(32, activation='relu'))\n",
    "model.add(Dense(16, activation='relu'))\n",
    "model.add(Dense(2, activation='sigmoid'))"
   ]
  },
  {
   "cell_type": "code",
   "execution_count": 181,
   "id": "4d113292-ba28-4743-8481-1d664f05c8cb",
   "metadata": {},
   "outputs": [],
   "source": [
    "model.compile(optimizer='adam', loss='binary_crossentropy', metrics=['accuracy'])"
   ]
  },
  {
   "cell_type": "code",
   "execution_count": 182,
   "id": "8766ff68-5098-4550-8290-3fdca3b03d7f",
   "metadata": {},
   "outputs": [
    {
     "name": "stdout",
     "output_type": "stream",
     "text": [
      "Epoch 1/35\n",
      "\u001b[1m2/2\u001b[0m \u001b[32m━━━━━━━━━━━━━━━━━━━━\u001b[0m\u001b[37m\u001b[0m \u001b[1m3s\u001b[0m 190ms/step - accuracy: 0.4562 - loss: 0.6956\n",
      "Epoch 2/35\n",
      "\u001b[1m2/2\u001b[0m \u001b[32m━━━━━━━━━━━━━━━━━━━━\u001b[0m\u001b[37m\u001b[0m \u001b[1m1s\u001b[0m 194ms/step - accuracy: 0.5104 - loss: 0.7209\n",
      "Epoch 3/35\n",
      "\u001b[1m2/2\u001b[0m \u001b[32m━━━━━━━━━━━━━━━━━━━━\u001b[0m\u001b[37m\u001b[0m \u001b[1m1s\u001b[0m 183ms/step - accuracy: 0.4792 - loss: 0.7077\n",
      "Epoch 4/35\n",
      "\u001b[1m2/2\u001b[0m \u001b[32m━━━━━━━━━━━━━━━━━━━━\u001b[0m\u001b[37m\u001b[0m \u001b[1m1s\u001b[0m 199ms/step - accuracy: 0.5167 - loss: 0.7194\n",
      "Epoch 5/35\n",
      "\u001b[1m2/2\u001b[0m \u001b[32m━━━━━━━━━━━━━━━━━━━━\u001b[0m\u001b[37m\u001b[0m \u001b[1m1s\u001b[0m 187ms/step - accuracy: 0.6625 - loss: 0.6931\n",
      "Epoch 6/35\n",
      "\u001b[1m2/2\u001b[0m \u001b[32m━━━━━━━━━━━━━━━━━━━━\u001b[0m\u001b[37m\u001b[0m \u001b[1m1s\u001b[0m 186ms/step - accuracy: 0.4896 - loss: 0.6907\n",
      "Epoch 7/35\n",
      "\u001b[1m2/2\u001b[0m \u001b[32m━━━━━━━━━━━━━━━━━━━━\u001b[0m\u001b[37m\u001b[0m \u001b[1m1s\u001b[0m 196ms/step - accuracy: 0.6354 - loss: 0.6727\n",
      "Epoch 8/35\n",
      "\u001b[1m2/2\u001b[0m \u001b[32m━━━━━━━━━━━━━━━━━━━━\u001b[0m\u001b[37m\u001b[0m \u001b[1m1s\u001b[0m 202ms/step - accuracy: 0.6417 - loss: 0.6671\n",
      "Epoch 9/35\n",
      "\u001b[1m2/2\u001b[0m \u001b[32m━━━━━━━━━━━━━━━━━━━━\u001b[0m\u001b[37m\u001b[0m \u001b[1m1s\u001b[0m 201ms/step - accuracy: 0.6687 - loss: 0.6530\n",
      "Epoch 10/35\n",
      "\u001b[1m2/2\u001b[0m \u001b[32m━━━━━━━━━━━━━━━━━━━━\u001b[0m\u001b[37m\u001b[0m \u001b[1m1s\u001b[0m 202ms/step - accuracy: 0.7500 - loss: 0.6397\n",
      "Epoch 11/35\n",
      "\u001b[1m2/2\u001b[0m \u001b[32m━━━━━━━━━━━━━━━━━━━━\u001b[0m\u001b[37m\u001b[0m \u001b[1m1s\u001b[0m 197ms/step - accuracy: 0.8250 - loss: 0.6121\n",
      "Epoch 12/35\n",
      "\u001b[1m2/2\u001b[0m \u001b[32m━━━━━━━━━━━━━━━━━━━━\u001b[0m\u001b[37m\u001b[0m \u001b[1m1s\u001b[0m 180ms/step - accuracy: 0.7667 - loss: 0.6017\n",
      "Epoch 13/35\n",
      "\u001b[1m2/2\u001b[0m \u001b[32m━━━━━━━━━━━━━━━━━━━━\u001b[0m\u001b[37m\u001b[0m \u001b[1m1s\u001b[0m 201ms/step - accuracy: 0.9125 - loss: 0.5713\n",
      "Epoch 14/35\n",
      "\u001b[1m2/2\u001b[0m \u001b[32m━━━━━━━━━━━━━━━━━━━━\u001b[0m\u001b[37m\u001b[0m \u001b[1m1s\u001b[0m 195ms/step - accuracy: 0.8792 - loss: 0.5595\n",
      "Epoch 15/35\n",
      "\u001b[1m2/2\u001b[0m \u001b[32m━━━━━━━━━━━━━━━━━━━━\u001b[0m\u001b[37m\u001b[0m \u001b[1m1s\u001b[0m 198ms/step - accuracy: 0.8688 - loss: 0.5443\n",
      "Epoch 16/35\n",
      "\u001b[1m2/2\u001b[0m \u001b[32m━━━━━━━━━━━━━━━━━━━━\u001b[0m\u001b[37m\u001b[0m \u001b[1m1s\u001b[0m 179ms/step - accuracy: 0.7937 - loss: 0.5431\n",
      "Epoch 17/35\n",
      "\u001b[1m2/2\u001b[0m \u001b[32m━━━━━━━━━━━━━━━━━━━━\u001b[0m\u001b[37m\u001b[0m \u001b[1m1s\u001b[0m 197ms/step - accuracy: 0.9187 - loss: 0.5134\n",
      "Epoch 18/35\n",
      "\u001b[1m2/2\u001b[0m \u001b[32m━━━━━━━━━━━━━━━━━━━━\u001b[0m\u001b[37m\u001b[0m \u001b[1m1s\u001b[0m 192ms/step - accuracy: 0.9292 - loss: 0.4902\n",
      "Epoch 19/35\n",
      "\u001b[1m2/2\u001b[0m \u001b[32m━━━━━━━━━━━━━━━━━━━━\u001b[0m\u001b[37m\u001b[0m \u001b[1m1s\u001b[0m 176ms/step - accuracy: 0.9187 - loss: 0.4799\n",
      "Epoch 20/35\n",
      "\u001b[1m2/2\u001b[0m \u001b[32m━━━━━━━━━━━━━━━━━━━━\u001b[0m\u001b[37m\u001b[0m \u001b[1m1s\u001b[0m 205ms/step - accuracy: 0.9021 - loss: 0.4639\n",
      "Epoch 21/35\n",
      "\u001b[1m2/2\u001b[0m \u001b[32m━━━━━━━━━━━━━━━━━━━━\u001b[0m\u001b[37m\u001b[0m \u001b[1m1s\u001b[0m 183ms/step - accuracy: 0.9187 - loss: 0.4332\n",
      "Epoch 22/35\n",
      "\u001b[1m2/2\u001b[0m \u001b[32m━━━━━━━━━━━━━━━━━━━━\u001b[0m\u001b[37m\u001b[0m \u001b[1m1s\u001b[0m 269ms/step - accuracy: 0.9187 - loss: 0.4050\n",
      "Epoch 23/35\n",
      "\u001b[1m2/2\u001b[0m \u001b[32m━━━━━━━━━━━━━━━━━━━━\u001b[0m\u001b[37m\u001b[0m \u001b[1m1s\u001b[0m 175ms/step - accuracy: 0.9187 - loss: 0.3774\n",
      "Epoch 24/35\n",
      "\u001b[1m2/2\u001b[0m \u001b[32m━━━━━━━━━━━━━━━━━━━━\u001b[0m\u001b[37m\u001b[0m \u001b[1m1s\u001b[0m 188ms/step - accuracy: 0.9187 - loss: 0.3604\n",
      "Epoch 25/35\n",
      "\u001b[1m2/2\u001b[0m \u001b[32m━━━━━━━━━━━━━━━━━━━━\u001b[0m\u001b[37m\u001b[0m \u001b[1m1s\u001b[0m 197ms/step - accuracy: 0.9458 - loss: 0.3170\n",
      "Epoch 26/35\n",
      "\u001b[1m2/2\u001b[0m \u001b[32m━━━━━━━━━━━━━━━━━━━━\u001b[0m\u001b[37m\u001b[0m \u001b[1m1s\u001b[0m 180ms/step - accuracy: 0.9292 - loss: 0.3256\n",
      "Epoch 27/35\n",
      "\u001b[1m2/2\u001b[0m \u001b[32m━━━━━━━━━━━━━━━━━━━━\u001b[0m\u001b[37m\u001b[0m \u001b[1m1s\u001b[0m 184ms/step - accuracy: 0.9292 - loss: 0.2783\n",
      "Epoch 28/35\n",
      "\u001b[1m2/2\u001b[0m \u001b[32m━━━━━━━━━━━━━━━━━━━━\u001b[0m\u001b[37m\u001b[0m \u001b[1m1s\u001b[0m 188ms/step - accuracy: 0.9563 - loss: 0.2646\n",
      "Epoch 29/35\n",
      "\u001b[1m2/2\u001b[0m \u001b[32m━━━━━━━━━━━━━━━━━━━━\u001b[0m\u001b[37m\u001b[0m \u001b[1m1s\u001b[0m 192ms/step - accuracy: 0.9563 - loss: 0.2470\n",
      "Epoch 30/35\n",
      "\u001b[1m2/2\u001b[0m \u001b[32m━━━━━━━━━━━━━━━━━━━━\u001b[0m\u001b[37m\u001b[0m \u001b[1m1s\u001b[0m 174ms/step - accuracy: 0.9729 - loss: 0.2089\n",
      "Epoch 31/35\n",
      "\u001b[1m2/2\u001b[0m \u001b[32m━━━━━━━━━━━━━━━━━━━━\u001b[0m\u001b[37m\u001b[0m \u001b[1m1s\u001b[0m 192ms/step - accuracy: 0.9729 - loss: 0.2007\n",
      "Epoch 32/35\n",
      "\u001b[1m2/2\u001b[0m \u001b[32m━━━━━━━━━━━━━━━━━━━━\u001b[0m\u001b[37m\u001b[0m \u001b[1m1s\u001b[0m 179ms/step - accuracy: 0.9729 - loss: 0.1713\n",
      "Epoch 33/35\n",
      "\u001b[1m2/2\u001b[0m \u001b[32m━━━━━━━━━━━━━━━━━━━━\u001b[0m\u001b[37m\u001b[0m \u001b[1m1s\u001b[0m 184ms/step - accuracy: 0.9729 - loss: 0.1934\n",
      "Epoch 34/35\n",
      "\u001b[1m2/2\u001b[0m \u001b[32m━━━━━━━━━━━━━━━━━━━━\u001b[0m\u001b[37m\u001b[0m \u001b[1m1s\u001b[0m 169ms/step - accuracy: 0.9729 - loss: 0.1487\n",
      "Epoch 35/35\n",
      "\u001b[1m2/2\u001b[0m \u001b[32m━━━━━━━━━━━━━━━━━━━━\u001b[0m\u001b[37m\u001b[0m \u001b[1m1s\u001b[0m 255ms/step - accuracy: 0.9667 - loss: 0.1823\n"
     ]
    },
    {
     "data": {
      "text/plain": [
       "<keras.src.callbacks.history.History at 0x20205a7a480>"
      ]
     },
     "execution_count": 182,
     "metadata": {},
     "output_type": "execute_result"
    }
   ],
   "source": [
    "model.fit(X_train, y_train, batch_size=32, epochs=35)"
   ]
  },
  {
   "cell_type": "code",
   "execution_count": 183,
   "id": "0413e5a9-3dcb-4221-8f6b-053bca2cc3c4",
   "metadata": {},
   "outputs": [
    {
     "name": "stdout",
     "output_type": "stream",
     "text": [
      "\u001b[1m24/24\u001b[0m \u001b[32m━━━━━━━━━━━━━━━━━━━━\u001b[0m\u001b[37m\u001b[0m \u001b[1m4s\u001b[0m 146ms/step\n"
     ]
    }
   ],
   "source": [
    "predictions = model.predict(X_test)"
   ]
  },
  {
   "cell_type": "code",
   "execution_count": 184,
   "id": "2cb9c021-b647-479f-b9b3-45c7537a203e",
   "metadata": {
    "scrolled": true
   },
   "outputs": [],
   "source": [
    "predicted_classes = np.argmax(predictions, axis=1)"
   ]
  },
  {
   "cell_type": "code",
   "execution_count": 185,
   "id": "cb0a84a0-35cf-4311-9e5a-538645ff3f50",
   "metadata": {},
   "outputs": [],
   "source": [
    "submission = pd.DataFrame({\n",
    "    'id': test_frame['id'],  \n",
    "    'label': predicted_classes\n",
    "})"
   ]
  },
  {
   "cell_type": "code",
   "execution_count": 186,
   "id": "17056ecf-5553-4068-9950-a8a7d1ec7406",
   "metadata": {},
   "outputs": [],
   "source": [
    "submission.to_csv('submission55.csv', index=False)"
   ]
  },
  {
   "cell_type": "code",
   "execution_count": null,
   "id": "ad902b02-d0a2-4093-942b-897541b28147",
   "metadata": {},
   "outputs": [],
   "source": []
  }
 ],
 "metadata": {
  "kernelspec": {
   "display_name": "Python 3 (ipykernel)",
   "language": "python",
   "name": "python3"
  },
  "language_info": {
   "codemirror_mode": {
    "name": "ipython",
    "version": 3
   },
   "file_extension": ".py",
   "mimetype": "text/x-python",
   "name": "python",
   "nbconvert_exporter": "python",
   "pygments_lexer": "ipython3",
   "version": "3.12.5"
  }
 },
 "nbformat": 4,
 "nbformat_minor": 5
}
