{
 "cells": [
  {
   "cell_type": "code",
   "execution_count": 468,
   "id": "4d542cef-b8cc-4b1f-9d02-415ebc18fb32",
   "metadata": {},
   "outputs": [],
   "source": [
    "import pandas as pd\n",
    "import numpy as np\n",
    "import os\n",
    "import matplotlib.pyplot as plt\n",
    "import cv2\n",
    "import matplotlib.image as mpimg\n",
    "from keras.utils import to_categorical\n",
    "from keras.optimizers import Adam\n",
    "from keras.models import Sequential\n",
    "from keras.layers import Dense, Flatten, MaxPooling2D, Conv2D, BatchNormalization, Dropout"
   ]
  },
  {
   "cell_type": "code",
   "execution_count": 469,
   "id": "75aed1a2-7f42-48f4-9cf6-df820ac9256b",
   "metadata": {},
   "outputs": [],
   "source": [
    "df_test = os.listdir('./plates/test/')"
   ]
  },
  {
   "cell_type": "code",
   "execution_count": 470,
   "id": "0018286d-57ce-4fb5-be30-16d607ea5157",
   "metadata": {},
   "outputs": [],
   "source": [
    "df_train_dirty, df_train_clean = os.listdir('./plates/train/dirty'), os.listdir('./plates/train/cleaned')"
   ]
  },
  {
   "cell_type": "code",
   "execution_count": 471,
   "id": "7c6c5c09-7735-4bf0-9049-c05b1b09aa87",
   "metadata": {},
   "outputs": [],
   "source": [
    "data_train = []\n",
    "data_train_label = [0] * 20 + [1] * 20\n",
    "dirty_path = './plates/train/dirty/'\n",
    "clean_path = './plates/train/cleaned/'\n",
    "for i in range(len(df_train_dirty)):\n",
    "    data_train.append(dirty_path + df_train_dirty[i])\n",
    "for i in range(len(df_train_clean)):\n",
    "    data_train.append(clean_path + df_train_clean[i])"
   ]
  },
  {
   "cell_type": "code",
   "execution_count": 472,
   "id": "36280f60-3e88-466b-ba50-a9d24f8b741e",
   "metadata": {},
   "outputs": [],
   "source": [
    "data_test = []\n",
    "for i in range(len(df_test)):\n",
    "    data_test.append('./plates/test/' + df_test[i])"
   ]
  },
  {
   "cell_type": "code",
   "execution_count": 473,
   "id": "96d4b629-46cd-4add-b916-fe4ea3fd7588",
   "metadata": {},
   "outputs": [],
   "source": [
    "x_shape, y_shape = [],[]"
   ]
  },
  {
   "cell_type": "code",
   "execution_count": 474,
   "id": "feb8c472-4625-48e6-a846-0164d96ae68c",
   "metadata": {},
   "outputs": [],
   "source": [
    "for i in data_train:\n",
    "    x_shape.append(mpimg.imread(i).shape[0])\n",
    "    y_shape.append(mpimg.imread(i).shape[1])\n",
    "for i in data_test:\n",
    "    x_shape.append(mpimg.imread(i).shape[0])\n",
    "    y_shape.append(mpimg.imread(i).shape[1])\n",
    "    "
   ]
  },
  {
   "cell_type": "code",
   "execution_count": 475,
   "id": "f40918b4-c706-4138-a8f7-e598416b1a9b",
   "metadata": {},
   "outputs": [],
   "source": [
    "x_shape, y_shape = sum(x_shape) // len(x_shape), sum(y_shape) // len(y_shape)"
   ]
  },
  {
   "cell_type": "code",
   "execution_count": 476,
   "id": "475d3bfd-8752-44de-89e2-0ece79ea47fc",
   "metadata": {},
   "outputs": [],
   "source": [
    "train_frame = pd.DataFrame({\n",
    "    'Plates_path': data_train,\n",
    "    'Label': data_train_label\n",
    "})\n",
    "test_frame = pd.DataFrame({\n",
    "    'Plates_path':data_test\n",
    "})"
   ]
  },
  {
   "cell_type": "code",
   "execution_count": 477,
   "id": "1e248aeb-353d-4c07-b87e-25496ff41ea1",
   "metadata": {},
   "outputs": [],
   "source": [
    "train_frame = train_frame.sample(frac=1).reset_index(drop=True)"
   ]
  },
  {
   "cell_type": "code",
   "execution_count": 478,
   "id": "4437fa74-72f8-4a9f-9ad0-fb5ae950f72b",
   "metadata": {},
   "outputs": [],
   "source": [
    "pre_image = []\n",
    "for i in train_frame['Plates_path']:\n",
    "    image = cv2.imread(i)\n",
    "    image = cv2.resize(image, (x_shape, y_shape))\n",
    "    image = image / 255.0\n",
    "    img = image.astype(np.float32)\n",
    "    gray_image = cv2.cvtColor(img, cv2.COLOR_BGR2GRAY) \n",
    "    reshaped_array = gray_image.reshape(262, 336, 1)\n",
    "    pre_image.append(reshaped_array)\n",
    "    \n",
    "pre_image_test = []\n",
    "for i in test_frame['Plates_path']:\n",
    "    image = cv2.imread(i)\n",
    "    image = cv2.resize(image, (x_shape, y_shape))\n",
    "    image = image / 255.0\n",
    "    img = image.astype(np.float32)\n",
    "    gray_image = cv2.cvtColor(img, cv2.COLOR_BGR2GRAY) \n",
    "    reshaped_array = gray_image.reshape(262, 336, 1)\n",
    "    pre_image_test.append(reshaped_array)"
   ]
  },
  {
   "cell_type": "code",
   "execution_count": 479,
   "id": "92da76f0-0825-43ef-b065-7f11f72b5e48",
   "metadata": {},
   "outputs": [],
   "source": [
    "train_frame['pre_image'] = pre_image"
   ]
  },
  {
   "cell_type": "code",
   "execution_count": 480,
   "id": "e5982e4e-5604-4110-9c67-7678bf9931ca",
   "metadata": {},
   "outputs": [],
   "source": [
    "test_frame['pre_image'] = pre_image_test"
   ]
  },
  {
   "cell_type": "code",
   "execution_count": 481,
   "id": "39132735-6812-49f8-b18a-024669f49cf3",
   "metadata": {},
   "outputs": [],
   "source": [
    "X_train, y_train = np.array(train_frame['pre_image'].tolist()), to_categorical(train_frame['Label'])"
   ]
  },
  {
   "cell_type": "code",
   "execution_count": 482,
   "id": "49672ded-14ba-4a25-94ca-f7f25e0c63de",
   "metadata": {},
   "outputs": [],
   "source": [
    "X_test = np.array(test_frame['pre_image'].tolist())"
   ]
  },
  {
   "cell_type": "code",
   "execution_count": 483,
   "id": "2859d7b4-6bc7-48a0-929b-2003a9c9ecd8",
   "metadata": {},
   "outputs": [],
   "source": [
    "model = Sequential()"
   ]
  },
  {
   "cell_type": "code",
   "execution_count": 484,
   "id": "f4f5f61b-38ae-4805-adce-1c12731f0195",
   "metadata": {},
   "outputs": [
    {
     "name": "stderr",
     "output_type": "stream",
     "text": [
      "C:\\Users\\ASUS\\AppData\\Local\\Programs\\Python\\Python312\\Lib\\site-packages\\keras\\src\\layers\\convolutional\\base_conv.py:107: UserWarning: Do not pass an `input_shape`/`input_dim` argument to a layer. When using Sequential models, prefer using an `Input(shape)` object as the first layer in the model instead.\n",
      "  super().__init__(activity_regularizer=activity_regularizer, **kwargs)\n"
     ]
    }
   ],
   "source": [
    "model.add(Conv2D(filters=64, kernel_size=(3, 3), activation='relu',  input_shape=(x_shape, y_shape, 1)))\n",
    "model.add(MaxPooling2D(pool_size=(2, 2)))\n",
    "model.add(Conv2D(filters=32, kernel_size=(3, 3), activation='relu'))\n",
    "model.add(MaxPooling2D(pool_size=(2, 2)))\n",
    "model.add(Flatten())\n",
    "model.add(Dense(32, activation='relu'))\n",
    "model.add(Dense(16, activation='relu'))\n",
    "model.add(Dense(2, activation='sigmoid'))"
   ]
  },
  {
   "cell_type": "code",
   "execution_count": 485,
   "id": "4d113292-ba28-4743-8481-1d664f05c8cb",
   "metadata": {},
   "outputs": [],
   "source": [
    "model.compile(optimizer='adam', loss='binary_crossentropy', metrics=['accuracy'])"
   ]
  },
  {
   "cell_type": "code",
   "execution_count": 486,
   "id": "8766ff68-5098-4550-8290-3fdca3b03d7f",
   "metadata": {},
   "outputs": [
    {
     "name": "stdout",
     "output_type": "stream",
     "text": [
      "Epoch 1/25\n",
      "\u001b[1m2/2\u001b[0m \u001b[32m━━━━━━━━━━━━━━━━━━━━\u001b[0m\u001b[37m\u001b[0m \u001b[1m5s\u001b[0m 558ms/step - accuracy: 0.5208 - loss: 1.2253\n",
      "Epoch 2/25\n",
      "\u001b[1m2/2\u001b[0m \u001b[32m━━━━━━━━━━━━━━━━━━━━\u001b[0m\u001b[37m\u001b[0m \u001b[1m3s\u001b[0m 552ms/step - accuracy: 0.5000 - loss: 1.1797\n",
      "Epoch 3/25\n",
      "\u001b[1m2/2\u001b[0m \u001b[32m━━━━━━━━━━━━━━━━━━━━\u001b[0m\u001b[37m\u001b[0m \u001b[1m3s\u001b[0m 548ms/step - accuracy: 0.5312 - loss: 0.6903\n",
      "Epoch 4/25\n",
      "\u001b[1m2/2\u001b[0m \u001b[32m━━━━━━━━━━━━━━━━━━━━\u001b[0m\u001b[37m\u001b[0m \u001b[1m3s\u001b[0m 576ms/step - accuracy: 0.5708 - loss: 0.6930\n",
      "Epoch 5/25\n",
      "\u001b[1m2/2\u001b[0m \u001b[32m━━━━━━━━━━━━━━━━━━━━\u001b[0m\u001b[37m\u001b[0m \u001b[1m3s\u001b[0m 570ms/step - accuracy: 0.5875 - loss: 0.6922\n",
      "Epoch 6/25\n",
      "\u001b[1m2/2\u001b[0m \u001b[32m━━━━━━━━━━━━━━━━━━━━\u001b[0m\u001b[37m\u001b[0m \u001b[1m5s\u001b[0m 561ms/step - accuracy: 0.6458 - loss: 0.6915\n",
      "Epoch 7/25\n",
      "\u001b[1m2/2\u001b[0m \u001b[32m━━━━━━━━━━━━━━━━━━━━\u001b[0m\u001b[37m\u001b[0m \u001b[1m3s\u001b[0m 559ms/step - accuracy: 0.5479 - loss: 0.6885\n",
      "Epoch 8/25\n",
      "\u001b[1m2/2\u001b[0m \u001b[32m━━━━━━━━━━━━━━━━━━━━\u001b[0m\u001b[37m\u001b[0m \u001b[1m3s\u001b[0m 540ms/step - accuracy: 0.6458 - loss: 0.6858\n",
      "Epoch 9/25\n",
      "\u001b[1m2/2\u001b[0m \u001b[32m━━━━━━━━━━━━━━━━━━━━\u001b[0m\u001b[37m\u001b[0m \u001b[1m3s\u001b[0m 557ms/step - accuracy: 0.8208 - loss: 0.6772\n",
      "Epoch 10/25\n",
      "\u001b[1m2/2\u001b[0m \u001b[32m━━━━━━━━━━━━━━━━━━━━\u001b[0m\u001b[37m\u001b[0m \u001b[1m3s\u001b[0m 569ms/step - accuracy: 0.7396 - loss: 0.6693\n",
      "Epoch 11/25\n",
      "\u001b[1m2/2\u001b[0m \u001b[32m━━━━━━━━━━━━━━━━━━━━\u001b[0m\u001b[37m\u001b[0m \u001b[1m3s\u001b[0m 569ms/step - accuracy: 0.6354 - loss: 0.6514\n",
      "Epoch 12/25\n",
      "\u001b[1m2/2\u001b[0m \u001b[32m━━━━━━━━━━━━━━━━━━━━\u001b[0m\u001b[37m\u001b[0m \u001b[1m3s\u001b[0m 559ms/step - accuracy: 0.8854 - loss: 0.6333\n",
      "Epoch 13/25\n",
      "\u001b[1m2/2\u001b[0m \u001b[32m━━━━━━━━━━━━━━━━━━━━\u001b[0m\u001b[37m\u001b[0m \u001b[1m3s\u001b[0m 542ms/step - accuracy: 0.7500 - loss: 0.6250\n",
      "Epoch 14/25\n",
      "\u001b[1m2/2\u001b[0m \u001b[32m━━━━━━━━━━━━━━━━━━━━\u001b[0m\u001b[37m\u001b[0m \u001b[1m3s\u001b[0m 567ms/step - accuracy: 0.7167 - loss: 0.6021\n",
      "Epoch 15/25\n",
      "\u001b[1m2/2\u001b[0m \u001b[32m━━━━━━━━━━━━━━━━━━━━\u001b[0m\u001b[37m\u001b[0m \u001b[1m3s\u001b[0m 576ms/step - accuracy: 0.8917 - loss: 0.5829\n",
      "Epoch 16/25\n",
      "\u001b[1m2/2\u001b[0m \u001b[32m━━━━━━━━━━━━━━━━━━━━\u001b[0m\u001b[37m\u001b[0m \u001b[1m3s\u001b[0m 562ms/step - accuracy: 0.8688 - loss: 0.5569\n",
      "Epoch 17/25\n",
      "\u001b[1m2/2\u001b[0m \u001b[32m━━━━━━━━━━━━━━━━━━━━\u001b[0m\u001b[37m\u001b[0m \u001b[1m3s\u001b[0m 560ms/step - accuracy: 0.8854 - loss: 0.5299\n",
      "Epoch 18/25\n",
      "\u001b[1m2/2\u001b[0m \u001b[32m━━━━━━━━━━━━━━━━━━━━\u001b[0m\u001b[37m\u001b[0m \u001b[1m5s\u001b[0m 616ms/step - accuracy: 0.8750 - loss: 0.5314\n",
      "Epoch 19/25\n",
      "\u001b[1m2/2\u001b[0m \u001b[32m━━━━━━━━━━━━━━━━━━━━\u001b[0m\u001b[37m\u001b[0m \u001b[1m3s\u001b[0m 569ms/step - accuracy: 0.9125 - loss: 0.4961\n",
      "Epoch 20/25\n",
      "\u001b[1m2/2\u001b[0m \u001b[32m━━━━━━━━━━━━━━━━━━━━\u001b[0m\u001b[37m\u001b[0m \u001b[1m3s\u001b[0m 560ms/step - accuracy: 0.9021 - loss: 0.4711\n",
      "Epoch 21/25\n",
      "\u001b[1m2/2\u001b[0m \u001b[32m━━━━━━━━━━━━━━━━━━━━\u001b[0m\u001b[37m\u001b[0m \u001b[1m5s\u001b[0m 569ms/step - accuracy: 0.9396 - loss: 0.4478\n",
      "Epoch 22/25\n",
      "\u001b[1m2/2\u001b[0m \u001b[32m━━━━━━━━━━━━━━━━━━━━\u001b[0m\u001b[37m\u001b[0m \u001b[1m3s\u001b[0m 641ms/step - accuracy: 0.9292 - loss: 0.3995\n",
      "Epoch 23/25\n",
      "\u001b[1m2/2\u001b[0m \u001b[32m━━━━━━━━━━━━━━━━━━━━\u001b[0m\u001b[37m\u001b[0m \u001b[1m5s\u001b[0m 582ms/step - accuracy: 0.7604 - loss: 0.4245\n",
      "Epoch 24/25\n",
      "\u001b[1m2/2\u001b[0m \u001b[32m━━━━━━━━━━━━━━━━━━━━\u001b[0m\u001b[37m\u001b[0m \u001b[1m5s\u001b[0m 550ms/step - accuracy: 0.9458 - loss: 0.3225\n",
      "Epoch 25/25\n",
      "\u001b[1m2/2\u001b[0m \u001b[32m━━━━━━━━━━━━━━━━━━━━\u001b[0m\u001b[37m\u001b[0m \u001b[1m5s\u001b[0m 551ms/step - accuracy: 0.7292 - loss: 0.5104\n"
     ]
    },
    {
     "data": {
      "text/plain": [
       "<keras.src.callbacks.history.History at 0x1bbf1ad75c0>"
      ]
     },
     "execution_count": 486,
     "metadata": {},
     "output_type": "execute_result"
    }
   ],
   "source": [
    "model.fit(X_train, y_train,  batch_size=32, epochs=25)"
   ]
  },
  {
   "cell_type": "code",
   "execution_count": 487,
   "id": "0413e5a9-3dcb-4221-8f6b-053bca2cc3c4",
   "metadata": {},
   "outputs": [
    {
     "name": "stdout",
     "output_type": "stream",
     "text": [
      "\u001b[1m24/24\u001b[0m \u001b[32m━━━━━━━━━━━━━━━━━━━━\u001b[0m\u001b[37m\u001b[0m \u001b[1m10s\u001b[0m 403ms/step\n"
     ]
    }
   ],
   "source": [
    "predictions = model.predict(X_test)"
   ]
  },
  {
   "cell_type": "code",
   "execution_count": 488,
   "id": "2cb9c021-b647-479f-b9b3-45c7537a203e",
   "metadata": {
    "scrolled": true
   },
   "outputs": [],
   "source": [
    "predicted_classes = np.argmax(predictions, axis=1)"
   ]
  },
  {
   "cell_type": "code",
   "execution_count": 489,
   "id": "213775e7-daf7-4cfc-a7d7-73d3c234a412",
   "metadata": {},
   "outputs": [
    {
     "data": {
      "text/plain": [
       "array([1, 1, 0, 1, 1, 1, 1, 1, 1, 1, 1, 1, 1, 1, 1, 1, 1, 1, 1, 1, 1, 1,\n",
       "       1, 1, 1, 0, 0, 0, 0, 0, 1, 1, 0, 1, 1, 1, 1, 1, 1, 1, 0, 0, 0, 1,\n",
       "       1, 1, 1, 1, 1, 1, 0, 0, 1, 0, 0, 1, 1, 1, 1, 1, 1, 0, 0, 1, 1, 0,\n",
       "       1, 1, 1, 0, 0, 1, 0, 1, 1, 1, 0, 1, 1, 1, 1, 1, 1, 1, 1, 0, 1, 1,\n",
       "       0, 0, 1, 1, 1, 0, 1, 0, 1, 1, 0, 1, 0, 1, 0, 1, 0, 1, 1, 1, 1, 1,\n",
       "       0, 0, 1, 1, 1, 1, 1, 1, 1, 1, 1, 0, 1, 1, 0, 0, 1, 1, 0, 1, 0, 1,\n",
       "       1, 0, 0, 1, 1, 1, 1, 1, 1, 1, 0, 0, 0, 1, 1, 0, 1, 0, 0, 1, 0, 1,\n",
       "       0, 1, 1, 1, 1, 1, 0, 1, 0, 1, 0, 0, 1, 1, 1, 0, 0, 1, 1, 1, 1, 1,\n",
       "       1, 1, 1, 1, 1, 1, 1, 1, 1, 1, 1, 0, 0, 1, 1, 1, 1, 0, 0, 1, 0, 0,\n",
       "       0, 0, 1, 1, 0, 0, 1, 1, 1, 1, 0, 1, 1, 0, 1, 0, 1, 0, 1, 0, 1, 1,\n",
       "       1, 1, 1, 1, 0, 1, 1, 1, 0, 1, 0, 1, 1, 1, 1, 1, 1, 0, 1, 0, 1, 1,\n",
       "       1, 0, 1, 1, 1, 1, 1, 1, 1, 1, 1, 1, 1, 0, 1, 1, 1, 1, 0, 1, 0, 1,\n",
       "       1, 1, 1, 1, 1, 1, 1, 1, 0, 1, 0, 1, 1, 1, 1, 1, 0, 0, 1, 1, 0, 0,\n",
       "       1, 0, 1, 1, 0, 0, 0, 1, 1, 1, 0, 1, 0, 0, 1, 0, 1, 0, 1, 1, 0, 0,\n",
       "       0, 0, 1, 0, 0, 1, 1, 0, 1, 1, 1, 1, 1, 1, 0, 1, 1, 0, 0, 1, 1, 1,\n",
       "       0, 1, 0, 0, 1, 0, 1, 1, 1, 1, 1, 0, 1, 1, 0, 1, 0, 1, 1, 1, 1, 0,\n",
       "       1, 1, 1, 1, 1, 0, 1, 1, 1, 1, 0, 1, 1, 1, 1, 1, 1, 1, 1, 0, 1, 0,\n",
       "       1, 1, 1, 1, 0, 1, 0, 0, 1, 1, 0, 1, 1, 1, 1, 0, 0, 1, 0, 1, 1, 1,\n",
       "       1, 1, 1, 1, 1, 1, 1, 1, 1, 0, 1, 1, 1, 0, 1, 1, 1, 1, 1, 1, 0, 1,\n",
       "       1, 1, 1, 1, 1, 1, 1, 1, 0, 1, 0, 0, 1, 1, 1, 0, 1, 1, 1, 1, 1, 1,\n",
       "       1, 1, 1, 1, 1, 1, 1, 1, 0, 1, 1, 1, 1, 1, 1, 1, 0, 1, 1, 1, 1, 0,\n",
       "       1, 1, 1, 0, 1, 1, 1, 1, 1, 0, 0, 1, 1, 1, 0, 1, 0, 0, 1, 1, 1, 1,\n",
       "       1, 0, 1, 1, 1, 1, 1, 1, 0, 1, 1, 1, 1, 0, 1, 1, 1, 1, 1, 1, 1, 1,\n",
       "       0, 1, 1, 1, 1, 1, 0, 0, 1, 0, 1, 1, 1, 1, 1, 0, 0, 0, 1, 0, 1, 1,\n",
       "       1, 0, 1, 1, 1, 0, 0, 1, 1, 1, 1, 1, 0, 1, 0, 1, 1, 1, 1, 1, 1, 0,\n",
       "       0, 1, 0, 1, 1, 0, 1, 0, 0, 1, 1, 1, 1, 1, 0, 0, 1, 0, 0, 1, 1, 1,\n",
       "       1, 0, 1, 1, 1, 1, 1, 1, 1, 0, 1, 1, 1, 1, 1, 0, 1, 0, 1, 1, 1, 1,\n",
       "       0, 1, 0, 1, 1, 1, 0, 1, 1, 0, 0, 0, 1, 1, 0, 1, 0, 1, 1, 1, 1, 1,\n",
       "       1, 1, 1, 1, 1, 1, 1, 0, 1, 0, 1, 1, 0, 1, 0, 0, 0, 1, 1, 1, 1, 1,\n",
       "       0, 1, 1, 0, 0, 0, 1, 0, 1, 1, 1, 0, 1, 0, 0, 1, 1, 1, 1, 0, 1, 1,\n",
       "       1, 1, 1, 1, 1, 1, 0, 1, 1, 1, 1, 0, 1, 1, 1, 0, 0, 1, 1, 0, 0, 1,\n",
       "       1, 1, 1, 1, 1, 1, 0, 1, 1, 1, 1, 1, 1, 0, 1, 1, 1, 1, 0, 1, 1, 1,\n",
       "       1, 1, 1, 1, 1, 1, 0, 1, 1, 1, 1, 1, 0, 1, 1, 1, 0, 1, 1, 1, 1, 0,\n",
       "       1, 1, 1, 1, 1, 1, 1, 1, 0, 1, 1, 0, 0, 1, 1, 1, 1, 1], dtype=int64)"
      ]
     },
     "execution_count": 489,
     "metadata": {},
     "output_type": "execute_result"
    }
   ],
   "source": [
    "predicted_classes"
   ]
  },
  {
   "cell_type": "code",
   "execution_count": null,
   "id": "cb0a84a0-35cf-4311-9e5a-538645ff3f50",
   "metadata": {},
   "outputs": [],
   "source": []
  }
 ],
 "metadata": {
  "kernelspec": {
   "display_name": "Python 3 (ipykernel)",
   "language": "python",
   "name": "python3"
  },
  "language_info": {
   "codemirror_mode": {
    "name": "ipython",
    "version": 3
   },
   "file_extension": ".py",
   "mimetype": "text/x-python",
   "name": "python",
   "nbconvert_exporter": "python",
   "pygments_lexer": "ipython3",
   "version": "3.12.5"
  }
 },
 "nbformat": 4,
 "nbformat_minor": 5
}
